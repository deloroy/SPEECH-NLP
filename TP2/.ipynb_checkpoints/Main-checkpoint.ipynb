{
 "cells": [
  {
   "cell_type": "code",
   "execution_count": 4,
   "metadata": {},
   "outputs": [],
   "source": [
    "from utils import *\n",
    "\n",
    "from load_data import * #load data \n",
    "from pcfg import * #build pcfg\n",
    "from oov import * #load embeddings, and build tagger for oov\n",
    "#from cyk import *"
   ]
  },
  {
   "cell_type": "code",
   "execution_count": null,
   "metadata": {},
   "outputs": [
    {
     "name": "stdout",
     "output_type": "stream",
     "text": [
      "test of the oov tagger\n",
      "\n",
      "- Février 2005 : le parquet de Paris requiert un non- lieu en_faveur_de Jean Tiberi , accordé par le juge Armand Riberolles .\n",
      "\n",
      "- {'CC': 0.010810810810810811, 'PONCT': 0.9783783783783784, 'ADV': 0.010810810810810811}\n",
      "\n",
      "Février  is an OOV\n",
      "Janvier  is the closest word (meaning) found among lexicon words having an embedding\n",
      "Février {'NC': 1.0}\n",
      "\n",
      "2005 {'NC': 1.0}\n",
      "\n",
      ": {'PONCT': 1.0}\n",
      "\n",
      "le {'CLO': 0.040993788819875775, 'DET': 0.9590062111801242}\n",
      "\n",
      "parquet {'NC': 1.0}\n",
      "\n",
      "de {'P': 0.9788445890968267, 'DET': 0.02115541090317331}\n",
      "\n",
      "Paris {'NPP': 1.0}\n",
      "\n",
      "requiert  is an OOV\n",
      "nécessite  is the closest word (meaning) found among lexicon words having an embedding\n",
      "requiert {'V': 1.0}\n",
      "\n",
      "un {'PRO': 0.06209850107066381, 'DET': 0.9379014989293362}\n",
      "\n",
      "non-  is an OOV\n",
      "non  is the closest word (spelling) found among words in the lexicon or having an embedding\n",
      "non  is a word in the lexicon\n",
      "non- {'NC': 0.027777777777777776, 'ADV': 0.9722222222222222}\n",
      "\n",
      "lieu {'NC': 1.0}\n",
      "\n",
      "en_faveur_de {'P': 1.0}\n",
      "\n",
      "Jean {'NPP': 1.0}\n",
      "\n",
      "Tiberi {'NPP': 1.0}\n",
      "\n",
      ", {'PONCT': 1.0}\n",
      "\n",
      "accordé {'VPP': 1.0}\n",
      "\n",
      "par {'P': 1.0}\n",
      "\n",
      "le {'CLO': 0.040993788819875775, 'DET': 0.9590062111801242}\n",
      "\n",
      "juge {'NC': 1.0}\n",
      "\n",
      "Armand  is an OOV\n",
      "René  is the closest word (meaning) found among lexicon words having an embedding\n",
      "Armand {'NPP': 1.0}\n",
      "\n",
      "Riberolles  is an OOV\n"
     ]
    }
   ],
   "source": [
    "print(\"test of the oov tagger\")\n",
    "print(\"\")\n",
    "\n",
    "sentences_test = [sentence(postag) for postag in corpus_test]\n",
    "print(sentences_test[0])\n",
    "print(\"\")\n",
    "\n",
    "for word in sentences_test[0].split():\n",
    "    print(word, tagger(word,viz_closest = True))\n",
    "    print(\"\")\n",
    "print(\"\")\n",
    "\n",
    "print(\"##################################\")\n",
    "print(\"\")"
   ]
  }
 ],
 "metadata": {
  "kernelspec": {
   "display_name": "Python 3",
   "language": "python",
   "name": "python3"
  },
  "language_info": {
   "codemirror_mode": {
    "name": "ipython",
    "version": 3
   },
   "file_extension": ".py",
   "mimetype": "text/x-python",
   "name": "python",
   "nbconvert_exporter": "python",
   "pygments_lexer": "ipython3",
   "version": "3.5.2"
  }
 },
 "nbformat": 4,
 "nbformat_minor": 2
}
